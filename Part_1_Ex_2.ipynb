{
 "cells": [
  {
   "cell_type": "markdown",
   "id": "00fcddf8",
   "metadata": {},
   "source": [
    "# Ensemble run"
   ]
  },
  {
   "cell_type": "markdown",
   "id": "8c8cdf9c",
   "metadata": {},
   "source": [
    "Here, we will investigate what the ensemble represents in a Monte-Carlo approach. See lecture \"Introduction to Data Assimilation\" for more information on the ensemble approach."
   ]
  },
  {
   "cell_type": "markdown",
   "id": "2f84dd6e",
   "metadata": {},
   "source": [
    "## Setting up the ensemble run"
   ]
  },
  {
   "cell_type": "markdown",
   "id": "f9a59e2e",
   "metadata": {},
   "source": [
    "As a basis for the ensemble run, we will use a similar setting to the single run in the previous exercise (i.e. definition of model parameter, timestep, net precipitation data and initial storage value). **Please copy-paste the missing lines from Exercise 1.**"
   ]
  },
  {
   "cell_type": "code",
   "execution_count": null,
   "id": "9eb0274b",
   "metadata": {},
   "outputs": [],
   "source": [
    "import numpy as np\n",
    "\n",
    "# Define parameter K  (copied from Exercise 1)\n",
    "############ TO BE FILLED ##################\n",
    "\n",
    "# Define timestep (copied from Exercise 1)\n",
    "############ TO BE FILLED ##################\n",
    "\n",
    "# Precipitation data (copied from Exercise 1)\n",
    "############ TO BE FILLED ##################\n",
    "\n",
    "# Initialize storage vector (copied from Exercise 1)\n",
    "############ TO BE FILLED ##################\n"
   ]
  },
  {
   "cell_type": "markdown",
   "id": "13a0c306",
   "metadata": {},
   "source": [
    "To generate a model ensemble, first, we have to define the ensemble size."
   ]
  },
  {
   "cell_type": "code",
   "execution_count": null,
   "id": "6956116e",
   "metadata": {},
   "outputs": [],
   "source": [
    "# Ensemble size\n",
    "Ne = 30  # ensemble size"
   ]
  },
  {
   "cell_type": "markdown",
   "id": "6e117ace",
   "metadata": {},
   "source": [
    "We also need to load some Gaussian noise files, which we will use to perturb the input data, parameters and initial water storage state. **[Marker for extra exercises].**"
   ]
  },
  {
   "cell_type": "code",
   "execution_count": null,
   "id": "48466427",
   "metadata": {},
   "outputs": [],
   "source": [
    "# Load Gaussian noise files\n",
    "noise_K = np.load('data/noise_K.npy')       # shape: (1, Ne)\n",
    "noise_S0_ens = np.load('data/noise_S0_ens.npy')\n",
    "noise_mP = np.load('data/noise_mP.npy')"
   ]
  },
  {
   "cell_type": "markdown",
   "id": "fcdc809e",
   "metadata": {},
   "source": [
    "Here, the properties for the Gaussian noise are defined, and then used to perturb the different variables:"
   ]
  },
  {
   "cell_type": "code",
   "execution_count": null,
   "id": "961e1616",
   "metadata": {},
   "outputs": [],
   "source": [
    "# Set noise amplitude\n",
    "Kmin, Kmax = 0.01, 0.99   # min and max value of model parameter\n",
    "S0min, S0max = 2, 8       # min and max value of initial state\n",
    "Pmin, Pmax = 0.8, 1.2     # multiplicator\n",
    "\n",
    "# Perturb variables\n",
    "K_ens = Kmin + (Kmax - Kmin) * noise_K      # shape: (Ne,)\n",
    "S0_ens = S0min + (S0max - S0min) * noise_S0_ens  # shape: (Ne,)\n",
    "mP = Pmin + (Pmax - Pmin) * noise_mP        # shape: (Ne,)\n",
    "# Create precipitation ensemble (len(P) x Ne)\n",
    "P_ens = np.tile(P.reshape(-1, 1), (1, Ne)) * np.tile(mP.reshape(1, -1), (len(P), 1))"
   ]
  },
  {
   "cell_type": "markdown",
   "id": "73667903",
   "metadata": {},
   "source": [
    "## Initialization of ensemble spread"
   ]
  },
  {
   "cell_type": "markdown",
   "id": "12731f52",
   "metadata": {},
   "source": [
    "Before starting with the ensemble run, we need to launch a \"warm-up\" run to make sure that the model storage state has an appropriate ensemble spread that reflects the uncertainties of (1) initial storage; (2) precipitation and (3) model parameters. Let us run a warm-up over a period of 12 timesteps:"
   ]
  },
  {
   "cell_type": "code",
   "execution_count": null,
   "id": "7bb07871",
   "metadata": {},
   "outputs": [],
   "source": [
    "from functions import linearModel\n",
    "ini = [0, 12]  # Python index: 0-based, first 12 steps\n",
    "\n",
    "S_ini = np.zeros((ini[1], Ne))\n",
    "S_ini[0, :] = S0_ens\n",
    "\n",
    "for ii in range(Ne):\n",
    "    _, S_ini[ini[0]:ini[1], ii] = linearModel.linearModel(S_ini[ini[0]:ini[1], ii], \n",
    "                                              P_ens[ini[0]:ini[1], ii], \n",
    "                                              K_ens[0,ii], Dt)\n"
   ]
  },
  {
   "cell_type": "markdown",
   "id": "26f29028",
   "metadata": {},
   "source": [
    "## Ensemble run"
   ]
  },
  {
   "cell_type": "markdown",
   "id": "aafa993d",
   "metadata": {},
   "source": [
    "We will now initialize the final ensemble run with the ouput of the \"warm-up\" run. The final ensemble run will be performed over a period of 24 timesteps."
   ]
  },
  {
   "cell_type": "code",
   "execution_count": null,
   "id": "5cccc156",
   "metadata": {},
   "outputs": [],
   "source": [
    "sim = [0, 24]  # first 24 steps\n",
    "\n",
    "S_ens = np.zeros((sim[1], Ne))\n",
    "S_ens[0, :] = S_ini[-1, :]\n",
    "\n",
    "Q_ens = np.zeros((sim[1], Ne))"
   ]
  },
  {
   "cell_type": "markdown",
   "id": "8338e614",
   "metadata": {},
   "source": [
    "We are now ready to launch the ensemble run. We will iterate and run the linearModel function for each ensemble member."
   ]
  },
  {
   "cell_type": "code",
   "execution_count": null,
   "id": "d8cd81b5",
   "metadata": {},
   "outputs": [],
   "source": [
    "for ii in range(Ne):\n",
    "    Q_ens[sim[0]:sim[1], ii], S_ens[sim[0]:sim[1], ii] = linearModel.linearModel(\n",
    "        S_ens[sim[0]:sim[1], ii],\n",
    "        P_ens[sim[0]:sim[1], ii],\n",
    "        K_ens[0,ii],\n",
    "        Dt\n",
    "    )"
   ]
  },
  {
   "cell_type": "markdown",
   "id": "fee92f83",
   "metadata": {},
   "source": [
    "## Visualization"
   ]
  },
  {
   "cell_type": "markdown",
   "id": "21b8d548",
   "metadata": {},
   "source": [
    "Let us visualize the ensemble run results."
   ]
  },
  {
   "cell_type": "code",
   "execution_count": null,
   "id": "93003697",
   "metadata": {},
   "outputs": [],
   "source": [
    "from functions.Visualization_functions import F_Visualize_Ex2  # assuming we will translate this function later\n",
    "F_Visualize_Ex2.F_Visualize_Ex2(P_ens, S_ens, Q_ens, sim)"
   ]
  },
  {
   "cell_type": "markdown",
   "id": "38ffaf93",
   "metadata": {},
   "source": [
    "## Extra exercises"
   ]
  },
  {
   "cell_type": "markdown",
   "id": "5dd131bb",
   "metadata": {},
   "source": [
    "- Go back to the \"Marker for extra exercises\". Triple the precipitation uncertainty (variable noise_mP) and run the whole script to see what happens.\n",
    "- At the same place, reduce the ensemble size from 30 to 5. You can do this by modifying the size of the loaded noise variables (noise_K, noise_mP and  noise_S0_ens). Run the whole script to see what happens."
   ]
  },
  {
   "cell_type": "markdown",
   "id": "ec717d74",
   "metadata": {},
   "source": [
    "## Reflection questions"
   ]
  },
  {
   "cell_type": "markdown",
   "id": "fb088fd2",
   "metadata": {},
   "source": [
    "1. What does the ensemble spread represent? \n",
    "\n",
    "\n",
    "2. How does the uncertainty of S and R depend on the uncertainty of P – ET? \n",
    "\n",
    "\n",
    "3. What could be the benefits and challenges of increasing the ensemble? \n",
    "\n"
   ]
  }
 ],
 "metadata": {
  "kernelspec": {
   "display_name": "Python 3",
   "language": "python",
   "name": "python3"
  },
  "language_info": {
   "name": "python",
   "version": "3.11.9"
  }
 },
 "nbformat": 4,
 "nbformat_minor": 5
}
