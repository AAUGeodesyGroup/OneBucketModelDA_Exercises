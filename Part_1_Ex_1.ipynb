{
 "cells": [
  {
   "cell_type": "markdown",
   "id": "6c4f4015",
   "metadata": {},
   "source": [
    "# Simple “bucket” hydrological model"
   ]
  },
  {
   "cell_type": "markdown",
   "id": "97b01e03",
   "metadata": {},
   "source": [
    "We will start working with a simple “bucket” hydrological model. See lecture \"Introduction to Data Assimilation\" for more information on the one-bucket model."
   ]
  },
  {
   "cell_type": "markdown",
   "id": "dadaacaf",
   "metadata": {},
   "source": [
    "## Setting up model variables"
   ]
  },
  {
   "cell_type": "markdown",
   "id": "aca31433",
   "metadata": {},
   "source": [
    "First, we will set up the model variables. This simple bucket model only has one model parameter, K, which relates the relation between the water stored and runoff."
   ]
  },
  {
   "cell_type": "code",
   "execution_count": null,
   "id": "6c795254",
   "metadata": {},
   "outputs": [],
   "source": [
    "# Define parameter K\n",
    "K  = 0.2  # model parameter, element of (0,1), for practical implementation [0.01 0.99]"
   ]
  },
  {
   "cell_type": "markdown",
   "id": "5a54c1b0",
   "metadata": {},
   "source": [
    "Let us define the timestep, load the forcing (precipitation minus evapotranspiration, P-ET) data and initialize our water storage state. "
   ]
  },
  {
   "cell_type": "code",
   "execution_count": null,
   "id": "c1ee69b5",
   "metadata": {},
   "outputs": [],
   "source": [
    "import numpy as np\n",
    "# Define timestep\n",
    "Dt = 1  # time step\n",
    "\n",
    "# precipitation data\n",
    "fnP = 'data/Precip.dat'  # filename of precipitation input\n",
    "P = np.loadtxt(fnP)  # load precipitation data\n",
    "del fnP\n",
    "\n",
    "# initialize storage vector\n",
    "S0 = 4  # initial state\n",
    "S = np.zeros((len(P), 1))\n",
    "S[0, 0] = S0"
   ]
  },
  {
   "cell_type": "markdown",
   "id": "00fc7dbd",
   "metadata": {},
   "source": [
    "## Model run"
   ]
  },
  {
   "cell_type": "markdown",
   "id": "63cf2065",
   "metadata": {},
   "source": [
    "We are now ready to run the linear reservoir model. For that, we will call the linearModel function."
   ]
  },
  {
   "cell_type": "code",
   "execution_count": null,
   "id": "a150c273",
   "metadata": {},
   "outputs": [],
   "source": [
    "from functions import linearModel\n",
    "# run linear reservoir model\n",
    "Q, S = linearModel.linearModel(S, P.reshape(-1, 1), K, Dt)"
   ]
  },
  {
   "cell_type": "markdown",
   "id": "b73f59e1",
   "metadata": {},
   "source": [
    "## Visualization"
   ]
  },
  {
   "cell_type": "markdown",
   "id": "173ac538",
   "metadata": {},
   "source": [
    "We can now visualize the outputs of the model run."
   ]
  },
  {
   "cell_type": "code",
   "execution_count": null,
   "id": "b06098da",
   "metadata": {},
   "outputs": [],
   "source": [
    "from functions.Visualization_functions import F_Visualize_Ex1\n",
    "F_Visualize_Ex1.F_Visualize_Ex1(P, S, S0, Q, K)"
   ]
  },
  {
   "cell_type": "markdown",
   "id": "e3dbc217",
   "metadata": {},
   "source": [
    "## Reflection questions"
   ]
  },
  {
   "cell_type": "markdown",
   "id": "bbf36f12",
   "metadata": {},
   "source": [
    "1. How does the net precipitation P-ET relate to the storage S? \n",
    "\n",
    "2. How does the runoff R relate to the storage S? \n",
    "\n",
    "Note: real hydrological models have a more complex representation of the hydrology."
   ]
  }
 ],
 "metadata": {
  "kernelspec": {
   "display_name": "Python 3",
   "language": "python",
   "name": "python3"
  },
  "language_info": {
   "name": "python",
   "version": "3.11.9"
  }
 },
 "nbformat": 4,
 "nbformat_minor": 5
}
